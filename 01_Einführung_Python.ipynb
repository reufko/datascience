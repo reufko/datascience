{
  "nbformat": 4,
  "nbformat_minor": 0,
  "metadata": {
    "colab": {
      "provenance": []
    },
    "kernelspec": {
      "name": "python3",
      "display_name": "Python 3"
    },
    "language_info": {
      "name": "python"
    }
  },
  "cells": [
    {
      "cell_type": "markdown",
      "source": [
        "# Hello World!\n",
        "\n",
        "Python ist eine sehr einfache Sprache und hat eine sehr einfache Syntax. Sie ermutigt Programmierer, ohne vorbereiteten Code zu programmieren. Die einfachste Anweisung in Python ist die „print“-Anweisung - sie druckt einfach eine Zeile aus.\n",
        "\n",
        "Es gibt zwei große Python-Versionen, Python 2 und Python 3. Python 2 und 3 sind recht unterschiedlich. In diesem Lehrgang wird Python 3 verwendet, weil es semantisch korrekter ist und neuere Funktionen unterstützt.\n",
        "\n",
        "Ein Unterschied zwischen Python 2 und 3 ist zum Beispiel die Anweisung print. In Python 2 ist die „print“-Anweisung keine Funktion und wird daher ohne Klammern aufgerufen. In Python 3 ist sie jedoch eine Funktion und muss mit Klammern aufgerufen werden.\n",
        "\n",
        "Um einen String in Python 3 auszugeben, schreibe einfach:\n",
        "\n",
        "![image.png](data:image/png;base64,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)"
      ],
      "metadata": {
        "id": "5RfSaXH2nhAa"
      }
    },
    {
      "cell_type": "code",
      "source": [
        "# Hier deinen Code eingeben:\n"
      ],
      "metadata": {
        "id": "6AfKwwFfnhkV"
      },
      "execution_count": null,
      "outputs": []
    },
    {
      "cell_type": "markdown",
      "source": [
        "# Einrückung\n",
        "\n",
        "Python verwendet Einrückungen für Blöcke anstelle von geschwungenen Klammern. Es werden sowohl Tabulatoren als auch Leerzeichen unterstützt, aber die Standard-Einrückung erfordert, dass der Standard-Python-Code vier Leerzeichen verwendet. Ein Beispiel:\n",
        "\n",
        "![image.png](data:image/png;base64,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)"
      ],
      "metadata": {
        "id": "jL1TtIiJoe08"
      }
    },
    {
      "cell_type": "code",
      "source": [
        "# Hier deinen Code eingeben:\n"
      ],
      "metadata": {
        "id": "A7SVqNr_orWv"
      },
      "execution_count": 1,
      "outputs": []
    },
    {
      "cell_type": "markdown",
      "source": [
        "# Übung\n",
        "Nutze die \"print\" Funktion, um \"Hello World\" auszugeben."
      ],
      "metadata": {
        "id": "2j8pYRrpovoZ"
      }
    },
    {
      "cell_type": "code",
      "source": [
        "# Hier deinen Code eingeben:\n"
      ],
      "metadata": {
        "id": "DQO1nmTNo4ph"
      },
      "execution_count": null,
      "outputs": []
    },
    {
      "cell_type": "markdown",
      "source": [
        "# Variablen und Datentypen\n",
        "Python ist vollständig objektorientiert und nicht „statisch typisiert“. Sie müssen Variablen nicht deklarieren, bevor Sie sie verwenden, oder ihren Typ angeben. Jede Variable in Python ist ein Objekt.\n",
        "\n",
        "## Zahlen\n",
        "Python unterstützt zwei Arten von Zahlen - ganze Zahlen (integers) und Fließkommazahlen (decimals).\n",
        "\n",
        "Um eine ganze Zahl zu definieren, verwenden Sie die folgende Syntax:\n",
        "\n",
        "![image.png](data:image/png;base64,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)"
      ],
      "metadata": {
        "id": "13-M7ED5pQJy"
      }
    },
    {
      "cell_type": "code",
      "source": [
        "# Probiere es hier aus:\n"
      ],
      "metadata": {
        "id": "NF-KLXKOpoFu"
      },
      "execution_count": null,
      "outputs": []
    },
    {
      "cell_type": "markdown",
      "source": [
        "Um eine Fließkommazahl zu definieren, können Sie folgende Notation verwenden:\n",
        "\n",
        "![image.png](data:image/png;base64,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)"
      ],
      "metadata": {
        "id": "gjAKVd-Ypub0"
      }
    },
    {
      "cell_type": "code",
      "source": [
        "# Probiere es hier aus:\n"
      ],
      "metadata": {
        "id": "ZuV7f0vpp5ap"
      },
      "execution_count": null,
      "outputs": []
    },
    {
      "cell_type": "markdown",
      "source": [
        "## Strings\n",
        "Strings können mit einfachen oder doppelten Anführungszeichen definiert werden:\n",
        "\n",
        "![image.png](data:image/png;base64,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)"
      ],
      "metadata": {
        "id": "qcIz2-WQqB5u"
      }
    },
    {
      "cell_type": "code",
      "source": [
        "# Hier ausprobieren:\n"
      ],
      "metadata": {
        "id": "RNINgtHIqKWs"
      },
      "execution_count": null,
      "outputs": []
    },
    {
      "cell_type": "markdown",
      "source": [
        "Der Unterschied zwischen den beiden besteht darin, dass die Verwendung von doppelten Anführungszeichen das Einfügen von Apostrophen erleichtert:\n",
        "\n",
        "![image.png](data:image/png;base64,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)"
      ],
      "metadata": {
        "id": "rkyZQgKRqVaz"
      }
    },
    {
      "cell_type": "code",
      "source": [
        "# Dein Code hier:\n"
      ],
      "metadata": {
        "id": "foLpcvjvqcxT"
      },
      "execution_count": 2,
      "outputs": []
    },
    {
      "cell_type": "markdown",
      "source": [
        "Einfache Operatoren können sowohl mit Zahlen als auch Strings verwendet werden, wie z.B.:\n",
        "\n",
        "![image.png](data:image/png;base64,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)"
      ],
      "metadata": {
        "id": "C8cWE1nYqftM"
      }
    },
    {
      "cell_type": "code",
      "source": [
        "# Hier ausprobieren:\n"
      ],
      "metadata": {
        "id": "hoIv8RBUqucz"
      },
      "execution_count": null,
      "outputs": []
    },
    {
      "cell_type": "markdown",
      "source": [
        "Zuweisungen können für mehrere Variablen gleichzeitig durchgeführt werden:\n",
        "\n",
        "![image.png](data:image/png;base64,iVBORw0KGgoAAAANSUhEUgAAAJ4AAAAlCAYAAACziFDNAAAFC0lEQVR4Xu2b72scRRjHvyv+B+I7jbE0V+kLgyg2kJqrQt9oDShSEJo08SJV3wVjotW7hFxEay3tS9skd6GkLwR90ZSkFBsDJkX7prQRSq5nAtG3RQTfSEuyzuzebfb2dvd2duf2R/Mc9EVzM/PMPPPZ7zPPznOKyj6gD3kgZA8o4YNXxrmDL+P2yN+YeVMJeblkLi4e2LXgXT1xGK9f2DL24YXTBdwaapW/L+VZvJIqYOVAH9Z+68E+0MPGnbxrwaslbBkfKGP4b+66ZBXeZOqewd39XZhcbSXwTE63Be/qiSeZGtyvNHsfl9Xz6Jb2pOqh9s6nN9H+9QEM3viH2enEqdIyhlPRqQFXwM/bJqWq3vrZAez9vgvl3J9oG28h8NzAWz97CPm9S8aTr0G4+hnWfh2UFCZ08Dhwx+e2dTsLH0J5Y0sy4AJRk4XDztQGRtSsvAeMjXkw9TO6S9MY/uNLKARezYY0DrUcinybdPBqk4sFFuq+wp7SLx5Ur4xs/houW7h6+MSLmP+oA3sElNl8zpN9xqtR0IUJAs+yX/Xglc+xw/AIVvBgp2nHmRiBJ6BkAk01CLe+gDqVFujl0NQKGoFX5ygLeHoYvPjWTdz6OKU3foQVr8YbEuGwZsxmO8fnFiUnMMGfkyhGsIDHQ95Rlt39W3GO/v/zHeMWxVvGxGtjWFTTGF3K4pBAeAPq3+Np58itIlObI1H4gNnUs8/B57IWxQuyTtNSJEIdkYOkm60PtdpB/7uKoU58O/82fswDRUtysZI/jNzS0+gtTKOvVSQb3UkujNVkroQMXQW0G9vGFJzOeP7XSeC50do4uXDo/dfsAHqnW3wonvSHp6kD7pZ1NtWJNoOLg7c5i0x/ERu+wmzYywtgb7esM4CLgnQVBy+INepLHqh4gMAjFCLxAIEXidvJKIFHDETiAQIvEreTUQKPGIjEA00D70y7iiFFxdptRVJVi4N/2GuP/jEVueIxPCt0gxLE316qqDdx6b1xPMxNCb5gDzKv5PSNLXjz/SpO7gfufOJ2K6JfaT0YvY7xtMjtSdAN8gIes7E8gVdz24/8S3Y/3mwaeH4mY+7jBTx+nXXhmUlc7G0Nak6wv0fw2Kj85uPd9R6sjEqoehGcZZyb14HHQ+TvE8Dj3cA09B+gnSopRp1c+bSKd9jffmD/UsP6989/oxjKxL+v/h19gFp8rG79bjZq+pt7WsfiNwt9G+hxKFKITxU1V+UZPFWgkGveTlvwhlZVVh2saBUqGgiXds5qBhjt0M9v94CX9qk4aoKTG9Da3VUdweM2qkDbtW2keG5KErcq6uiUOb6a56h45p8eDrAkIVWCpnpWEPnSzN9Xl9oIPK6qho0rKpRsbSLiDh47uGcyuJae8hZmI64p5A/JscUuzBR7QkyA4gsdn5k/8ByUzLzUMMAr9f5kn1TErYqaJRnpQguBZwKkMXj3VC2U5lRF+yGMG1Bhg2evePGroqYEo159G4LHQ94RlmRUk4SwwLML6ebpO2+m1ypqPprfCmOxKmo643kEjx/8jY8lm2wEnvbi2NyfD2QZo5rVup3xeLeasUSyWo9V1NyGvwpjkSpqymrtTpsNFS/OR1QZStLsCmMKs/YEJRq8aqj0dXMRRoUx3Vw46lbCwWPriuSu1kscoLtaNy/F9srMy9ZSm+R6gMBL7t4leuYEXqK3L7mTJ/CSu3eJnjmBl+jtS+7k/wcgR+m/1YDgygAAAABJRU5ErkJggg==)"
      ],
      "metadata": {
        "id": "zabr0efwqyvW"
      }
    },
    {
      "cell_type": "code",
      "source": [
        "# Dein Code:\n"
      ],
      "metadata": {
        "id": "JtGkY6GRq8Z3"
      },
      "execution_count": 5,
      "outputs": []
    },
    {
      "cell_type": "markdown",
      "source": [
        "Das Vermischen von Operatoren zwischen Zahlen und Strings wird nicht unterstützt:\n",
        "\n",
        "![image.png](data:image/png;base64,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)"
      ],
      "metadata": {
        "id": "9K0FG41HrD7C"
      }
    },
    {
      "cell_type": "code",
      "source": [
        "# Dein Code:\n"
      ],
      "metadata": {
        "id": "vEbNaZtfq_Jj"
      },
      "execution_count": null,
      "outputs": []
    },
    {
      "cell_type": "markdown",
      "source": [
        "## Übung:\n",
        "Das Ziel dieser Übung ist es, einen String, eine Ganzzahl und eine Fließkommazahl zu erstellen. Die Zeichenkette soll mystring heißen und das Wort \"hello\" enthalten. Die Fließkommazahl soll myfloat heißen und die Zahl 10.0 enthalten, und die Ganzzahl soll myint heißen und die Zahl 20 enthalten."
      ],
      "metadata": {
        "id": "Jh8Hu_icrT-t"
      }
    },
    {
      "cell_type": "code",
      "source": [
        "# Hier schreibst du den Code zu der Übung:\n"
      ],
      "metadata": {
        "id": "abhmLSSXri9f"
      },
      "execution_count": 6,
      "outputs": []
    },
    {
      "cell_type": "markdown",
      "source": [
        "# Listen\n",
        "Listen sind den Arrays sehr ähnlich. Sie können jeden Variablentyp enthalten und so viele Variablen wie Sie wollen. Listen können auch auf sehr einfache Weise iteriert werden. Hier ist ein Beispiel für den Aufbau einer Liste:\n",
        "\n",
        "![image.png](data:image/png;base64,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)"
      ],
      "metadata": {
        "id": "wKk5RUBqrsia"
      }
    },
    {
      "cell_type": "code",
      "source": [
        "# Hier selbst ausprobieren:\n"
      ],
      "metadata": {
        "id": "74cPCVlnrl6a"
      },
      "execution_count": null,
      "outputs": []
    },
    {
      "cell_type": "markdown",
      "source": [
        "Der Zugriff auf einen Index, der nicht existiert, erzeugt eine Exception (einen Fehler).\n",
        "\n",
        "![image.png](data:image/png;base64,iVBORw0KGgoAAAANSUhEUgAAAKAAAAAoCAYAAAB5LPGYAAAHE0lEQVR4Xu2b7U8cRRzHv0uq/4DRNyrSVo6mL6xGYxtsCzXpG0uJJmpjUp4KivqOgpBYDwhgTNsQ6jtL4UBKX6h9YSmlqS1tKuDDm6bV2HAgKPre+NJYuXVm9/bY3dudmX262zv2EhJytzM785vP/h5mvivJ5IPoE1kgTxaQIgDzZPnotooFIgAjEPJqgcAAXBmqxtPHb6uTa74MeaTGZqLLOLP3RbStx7H4fRsqIOXVIG5u/udkCxrHflOa/lfagPGxOmwtuHms4UJzMxK/qxnZ4w2jmKgvc2MOR20CA1AbhQLiLx2BAXi19VGciC3gTnvM0cT9vJgC+NZKHeZ7qmy6XSMPWTPaFvbjkhxHrWM45/Cu1IuzUOF47nQCdzrE4bjaehCvDK9nxsZrP99/EMNPndssAHpDIfQAzgxAOrSKwcGtaG+XXQFIAfqi5huMHybRYXkSe2M3UZscRWfMTbRQYf5n6oban8Un/wDOvAfp63IM3e8nT+3faJqexsM1R8gT+CxOJufQKX2KfbGLOEz/14ywfCb7OzI5lgfkh+l0eCZj0D4NUynFcIa2eiMyw7032O1a23tA4vkqP8e274jXm/mYgJhyBaDxvqo3nXh1xJEX1PdBgT5Rfs62fTgAPPQZ6GIfmX6MuO8KnFpK4KGm3bjb9RcB4Fclb5t47cdM6LMDjR+C7SEVaRt6D6itvOIJ/QCQ78GYjxnxoC/FVtHFSAXCAWB/uVIUbBk6kM7hKozQUS+ZvqYCKpAqnEa3LgIRE97jMeI1ztrmTd4AXEa8/xoumVbswSPP48r7e7BNMFfj54DkBj4BqORz9+qw+EOdo4JNnweGPwfUwWULIGZILvEJtiW/VUJyZX0KYxZVrBcAKRe8MO0NQH9Ccq4AXBlqITsLKZIGuc3/1PkqMK5/RApD66KpMDygMhG1Av2q5B28kRq2rES9AriBSDof3HHeUFF7A7BwPKBf8Cn2pN64r9TWixYMgEgXHqnKnehasA6T/gFonSsq/X9Zm9c9RH884BwGXu7FrFyFnltxVOvDf7qSZns+RnuDo09vCe2IF74HJHsC6iayyStlvtdVr4oNDBVqdoVrvMbi9z2DFqCZrgtVFZwOd7o9OJWFastqmHqe7ltPoj4xisYyLZc27gFusJTdh3V7bQ8ylWka/hxQODVSF9+q+BDuogguFPKAAvOk/dSPlmZ7QIG29BKv7bXb5D8EC044DOFPcKiBXuYZwLVJNDeNYdUq/IqM3Gt70z1CD+BGZfo2c4tExHbFcE10Fux+FQM/C3Y/tKjlZrBABOBmWOUQzzECMMSLsxmGFgG4GVY5xHMMHMDBXTI6JBmLdyVHZ5eObUYqwaZeGd1jR30Vg/KOAtVxBi+qDb7Q4QlSye/H+vCge0S3R+l4lbIahB7AK00yPtwJ3PuApX1TTwH+7bmBvio3Gjm+IdknOt4B5B0p8rd62KJXgyh1dyNTzGC7DTM3gAPdKdf7lFZWDhxA/tKyrxABMBf7ViJHil7m6glAjujVqKD5Q1VnuzyK4z8IzqxgCyANnT8PAFtqgdG0FPxkUsoIUJdPy3id3Osi+Yt1qlLxZ05JGU9Ff9e+RyMgj5VkjYx1D0N7fUtzX3QTtnEVdVnnpxxRLRXSWoloHQpr+SHaXlRLpyUqrHUvep1DqzSO7ckRnXiYrapmP9A02ozjiYQ/oZgJYMdPMhGlSorGTwHiwkYulwFkF9T8bgl4oULGmzpIleyItrsv2wJI76GBbXUtzwPaLgyVlDFFtTRUq3D4Iaz1IsildvLkAbUH1EpzaP6OCFL3xRKYJ20apmYtZfm8iML73YkP5HpAvcC0hRQTsSSUJ8kMJL2p/ndtEDwAqZfN3OOyDCluLFjYAKqJ87WqkewXaIQ0jWSUPglrvYhqAweQSK+WzpfgmAJeGVG3dxN1ews5w7/uCkD60B+d3e/L23/eALTxbPonIBcAJuuvZxcfogD6JKz19u5L0B7wJlmSMp2QVS1Y3AIIUoxUJUpzDOCSrITYbllS5PEssHINoCcPqAt/XoS1YkWKnXwtQADTIXe7Ptxy3qzjhVg/CxFhD0hDYQ0pRrRiIlcAWoV6PeDMHJD3XksmT1Df6PMirBUDkPMCFkNYK7ToNu+dmN8j8SrJ5wHqWw5IC4TMx1R98gBUNqD17WlHpj60KpiVA9Jmhr6cVMGiALoW1volqlXKNVXcq4l4TcJaFoDmF8/VNdMLVk2i1OYeWzU0bRmaKthQIDjBOsfXen8iwy+sFfKAPtmdZU+/xyEcgn2aW0DdeDsJKQRhrd8Lz1qIUJyEZIXHgNDxrVsXZ8GFJKyNzoJ9IyXqKLLAhgVCfxYcLVZxWyACsLjXN/SziwAM/RIV9wAjAIt7fUM/uwjA0C9RcQ8wArC41zf0s/sfydAy8sT6mRkAAAAASUVORK5CYII=)"
      ],
      "metadata": {
        "id": "58_arKwrr-7m"
      }
    },
    {
      "cell_type": "code",
      "source": [
        "# Hier ausprobieren:\n"
      ],
      "metadata": {
        "id": "q-9wYXr6sEaT"
      },
      "execution_count": 7,
      "outputs": []
    },
    {
      "cell_type": "markdown",
      "source": [
        "## Übung:\n",
        "In dieser Übung sollen mit der Listenmethode \"append\" Zahlen und Strings zu den richtigen Listen hinzugefügt werden. Fügen sie die Zahlen 1, 2 und 3 in die Liste \"numbers\" und die Wörter \"hello\" und \"world\" in die Variable \"strings\".\n",
        "\n",
        "Außerdem soll die Variable \"second_name\" mit dem zweiten Namen aus der Liste \"names\" befüllt werden. Achte darauf, dass die Listen in Python 0-Indiziert sind."
      ],
      "metadata": {
        "id": "JCHpfJIQsKFp"
      }
    },
    {
      "cell_type": "code",
      "source": [
        "numbers = []\n",
        "strings = []\n",
        "names = [\"Ilir\", \"Galeni\", \"Glejdi\"]\n",
        "\n",
        "# Dein Code kommt hierher:\n",
        "second_name = ...\n",
        "\n",
        "\n",
        "\n",
        "# Dieser Code sollte die gefüllten Arrays und den zweiten Namen in der Namensliste (Galeni) ausgeben\n",
        "print(numbers)\n",
        "print(strings)\n",
        "print(\"The second name on the names list is %s\" % second_name)"
      ],
      "metadata": {
        "id": "R6CJNVc5sJHC"
      },
      "execution_count": null,
      "outputs": []
    },
    {
      "cell_type": "markdown",
      "source": [
        "# Operatoren:\n",
        "In diesem Abschnitt wird erklärt, wie man die grundlegenden Operatoren in Python verwendet.\n",
        "\n",
        "## Arithmetische Operatoren:\n",
        "Wie in jeder anderen Programmiersprache können die Operatoren Addition, Subtraktion, Multiplikation und Division mit Zahlen verwendet werden.\n",
        "\n",
        "![image.png](data:image/png;base64,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)"
      ],
      "metadata": {
        "id": "emOF-acGti-n"
      }
    },
    {
      "cell_type": "code",
      "source": [
        "# Hier ausprobieren:\n"
      ],
      "metadata": {
        "id": "aHI1H7cit2p1"
      },
      "execution_count": null,
      "outputs": []
    },
    {
      "cell_type": "markdown",
      "source": [
        "Ein weiterer verfügbarer Operator ist der Modulo-Operator (%), der den ganzzahligen Rest der Division zurückgibt.\n",
        "\n",
        "![image.png](data:image/png;base64,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)"
      ],
      "metadata": {
        "id": "QxQJIw47t4cP"
      }
    },
    {
      "cell_type": "code",
      "source": [
        "# Hier ausprobieren:\n"
      ],
      "metadata": {
        "id": "gVbMuhzlx8R1"
      },
      "execution_count": null,
      "outputs": []
    },
    {
      "cell_type": "markdown",
      "source": [
        "Die Verwendung von zwei Multiplikationssymbolen ergibt eine Potenzrechnung:\n",
        "\n",
        "![image.png](data:image/png;base64,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)"
      ],
      "metadata": {
        "id": "w28HZkFax_bQ"
      }
    },
    {
      "cell_type": "code",
      "source": [
        "# Dein Code:\n"
      ],
      "metadata": {
        "id": "G1b2i0QnyIjK"
      },
      "execution_count": null,
      "outputs": []
    },
    {
      "cell_type": "markdown",
      "source": [
        "## Verwendung von Operatoren mit Strings\n",
        "Python unterstützt die Verkettung von Zeichenketten mit dem Additionsoperator:\n",
        "\n",
        "![image.png](data:image/png;base64,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)"
      ],
      "metadata": {
        "id": "hng-goyAyOj1"
      }
    },
    {
      "cell_type": "code",
      "source": [
        "# Hier ausprobieren:\n"
      ],
      "metadata": {
        "id": "AlzYOAWLytS0"
      },
      "execution_count": 8,
      "outputs": []
    },
    {
      "cell_type": "markdown",
      "source": [
        "Python unterstützt auch die Multiplikation von Zeichenketten, um eine Zeichenkette mit einer sich wiederholenden Sequenz zu bilden:\n",
        "\n",
        "![image.png](data:image/png;base64,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)"
      ],
      "metadata": {
        "id": "e0E9W47ZyzOv"
      }
    },
    {
      "cell_type": "code",
      "source": [
        "# Selbst ausprobieren:\n"
      ],
      "metadata": {
        "id": "IApiDivayyWM"
      },
      "execution_count": null,
      "outputs": []
    },
    {
      "cell_type": "markdown",
      "source": [
        "## Verwendung von Operatoren mit Listen\n",
        "Listen können mit den Additionsoperatoren verbunden werden:\n",
        "\n",
        "![image.png](data:image/png;base64,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)"
      ],
      "metadata": {
        "id": "xZUrHo0ky6o2"
      }
    },
    {
      "cell_type": "code",
      "source": [
        "# Probiere es aus:\n"
      ],
      "metadata": {
        "id": "kZhBEV3bzLzb"
      },
      "execution_count": 13,
      "outputs": []
    },
    {
      "cell_type": "markdown",
      "source": [
        "Genau wie bei Zeichenketten unterstützt Python die Bildung neuer Listen mit einer sich wiederholenden Folge unter Verwendung des Multiplikationsoperators:\n",
        "\n",
        "![image.png](data:image/png;base64,iVBORw0KGgoAAAANSUhEUgAAAMUAAAASCAYAAADrAxpnAAAEYUlEQVRoQ+1a3UsUURT/TfQfVPRQmYatFZEEPaW4JlhQKj1EJbi6ptAH9GCaReUqZmCJVA8RqbtrokUUQkaKpUlo0UNEFoQfaEmPQc9R6W3ujDPO7Ox87+yuNgP7snPPueeee373d865wxD2gfu4HnA9IHqAcQoUrZkENQzBxEcGGWCcc/lcN8obCALhEqRJ5vneXQl/+Cs379+UMnSGfbL3zhkUS81z6KmoQOgbf25tKAuiqzTV9ARzIw9wd10xmnc6sQ+sjSca8SfQAX+qE/pNL9e2QNKC4nk5waUdwPh5LUePoimvAb/rh9DolY+joCie8WGs3qvhpDncyq5A1ZscPCV1KDIF3lGcYhpwD3zA7m4J4UONuYAdOJmPg23zon1aOsau5qNtc7spULx+fAcD28+gmRnERXIAp388RBXZj968tYYDx5CNo03YF1hA/Ugdck350LAZcR3oGCjsrsIIKLQCRRcU/U1gDs2itTUN1dXENChosDwqeIHOQhaM093I9rxC0WQQtR6rpyUPsl99Q7zOiMcKKKgKCoyzEzxw07OOmwKEcg/VbdT1t92AiKO8AhQ07fncBKwuAoKLp+D1SUbc7OkWgiOsgU/Yn6eWd/auG4x4otP3wv/wAyS8SrEcrTlk8lLJSF1s2lThn4VP5XTS3iSWIfbex5a3LDv0X2PBsWAaFPJF8YzTdbjDNFtI9VCgXd7aHlWHVVDQ1Klw7GeMQAGo20hZuxMbQ8s/jYoKippPBGV9DHdicUHas1QbiEGbCb5emAL2ZBAclQCH7gA37gtRBQWdQwBbtLF6TKF3Mum9F4ORYwy7oNA+5Q0dcizbZHlmcUEljbMCCsoSt9ccQ+/695bTJ5ntDthoyDdxHqTKFFIKr2QLZs8kOLaIBAm1V/pesF8PFJSNxDmeETB18qJcGxR8ATro7VDNseMJCi7vHvdh4p3PdFNBmrPHuqYQ9sJuoW3URurzkuGcZdrUWEKeNVCoMIAU0PEAxWTpS0WBLdgQL1DM3KxE+rkFlvXs1BO81VzwzV8B6VA2B6wwhRMHrJaNYAtubyjlPwDFFOHSowBhuO6MVrDHGxSJZopYAoLzHU3lGlOiMk6ygELLRsMHkRNojaFOXaagaUwBW3ALBXO8QBEtTZOuW28D9N4bqyn4lu8w8SrbjYvdK22G0JBXbOJie3hbXRIzxXKw0T46VAttUbVf3kHSAwV3accW0bInQofQfdKqKai8TFeEDtjqPi2mKpI7At7eXEUXip7QgZFNKA0FJZdT8juKpbUalacSwh3JgijuVE1hPUzM2LjCu0+yIti6Rx2XtHVPYdA6yjilwRTLF1N25QUzkyZ9UvGbYWY26PdEDtNNnxJpnP7cdm+0NWagTFQexmy01EnfMJYIbMpHzJHUoFjpN9qK1MZIACRyjPvtUyK9z6WB7rdPCd4Cd3rXA057IGm/fXJ64a5+1wNqHnBB4caG64EID7igcEPC9UCEB/4BPy53+DqL36wAAAAASUVORK5CYII=)"
      ],
      "metadata": {
        "id": "EzbuGD-tzR0N"
      }
    },
    {
      "cell_type": "code",
      "source": [
        "# Hier ausprobieren:\n"
      ],
      "metadata": {
        "id": "WX5gRVvvzWEW"
      },
      "execution_count": null,
      "outputs": []
    },
    {
      "cell_type": "markdown",
      "source": [
        "## Übung\n",
        "Das Ziel dieser Übung ist es, zwei Listen namens `x_list` und `y_list` zu erstellen, die jeweils 10 Instanzen der Variablen `x` und `y` enthalten. Außerdem sollen Sie eine Liste namens `big_list` erstellen, die die Variablen `x` und `y` jeweils 10-mal enthält, indem Sie die beiden erstellten Listen verketten."
      ],
      "metadata": {
        "id": "iCJoTfsQzY8J"
      }
    },
    {
      "cell_type": "code",
      "source": [
        "x = object()\n",
        "y = object()\n",
        "\n",
        "# TODO: diesen Code solltest du ändern\n",
        "x_list = ...\n",
        "y_list = ...\n",
        "big_list = ...\n",
        "\n",
        "print(\"x_list enthaelt %d Objekte\" % ...)\n",
        "print(\"y_list enthaelt %d Objekte\" % ...)\n",
        "print(\"big_list enthaelt %d Objekte\" % ...)\n",
        "\n",
        "# testing code\n",
        "if x_list.count(x) == 10 and y_list.count(y) == 10:\n",
        "    print(\"Fast geschafft...\")\n",
        "if big_list.count(x) == 10 and big_list.count(y) == 10:\n",
        "    print(\"Bravo!\")"
      ],
      "metadata": {
        "id": "IGgTRGKpz3Qm"
      },
      "execution_count": null,
      "outputs": []
    },
    {
      "cell_type": "markdown",
      "source": [
        "# Formatieren von Outputs\n",
        "Python verwendet die C-ähnliche String-Formatierung, um neue, formatierte Strings zu erstellen. Der \"%\"-Operator wird verwendet, um einen Satz von Variablen zu formatieren.\n",
        "\n",
        "Nehmen wir an, Sie haben eine Variable mit dem Namen\n",
        "`name`, die einen Benutzernamen enthält, und Sie möchten eine Begrüßung an diesen Benutzer ausgeben.\n",
        "\n",
        "![image.png](data:image/png;base64,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)"
      ],
      "metadata": {
        "id": "P_GlGN122a-K"
      }
    },
    {
      "cell_type": "code",
      "source": [
        "# Hier ausprobieren:\n"
      ],
      "metadata": {
        "id": "GppuyEyq20xc"
      },
      "execution_count": null,
      "outputs": []
    },
    {
      "cell_type": "markdown",
      "source": [
        "Um zwei oder mehr Argumente anzugeben, kann ein Tupel (Klammern) verwendet werden:\n",
        "\n",
        "![image.png](data:image/png;base64,iVBORw0KGgoAAAANSUhEUgAAAREAAABpCAYAAAAdkheWAAAVqUlEQVR4Xu1da5AVxRU+l6h/EwQBoyEG2Yvg2/ggvCWBUliIAgURRYFFQLSsQoiERZ6LL9BgKqACuyxFQRQE1HVZ4ouVlwpJEMFdWBYoraR8sEissqxYInvTPc/umZ7pnjsze+/eOVtFFbvT033O16e/Oef0zOlUhvwA/iACiAAikCUCKSSRLJHD2xABREBDAEkEDQERQARCIYAkEgo+vBkRQARySCJfwMbVj8OJXn+F0itTPjOht6vM3AarJg+FzuDXNlcT2hpkzBU2xrhNNfBgxTa4ZNhyKE2tgaGvfw5jSx6DuztENZ+q9hQFDjjfLIq+JPKfXY/DunalZJF/qbjgeYP51DlfmU6M4ahOemuYsPAyfvDqQ7C2bSmsHPDzKKw8lj5CySghEdr34gYmx8/Zioo6qvak0pesTfj59h7hI1j6VDm8ZzS4tOccl004sRK1kWkQ5XVfEqHC1qapp0BIZFUF/HjHnMBPDm/Da8lJjxKyePoKtUDjEcnVaygZKYmU/wt6Ue8jtd3+v9AT+QiWPFkNlwTyVArDnuw1Rzw0FjNPj00nnbPUw/P16OMzEjGJ1FfA0KoDwlGDsp6cRErh8vefgHVfk6eQ4+lDPaEp73+uyXG2qATeGnmDQybdcLR7jZ/egcDU7z/ZeyKcV1Whs79AhrLmCTC3TaUlC4uBv4xq/Zs6ssrx+kajp4lTJnM9lM4ugT5WaChYgMQGbtvTUQsh2+x6wtLdW8YojdSLRHgceD1MHbzsST4XKhrEb5OsFLrMO4r8PdRQ5K6itKSNjydCFDC9D+3J8TncxRme2ugyEqGGbS58OkETm253kUXQv6tJRlvZRsnKMOnotVb+xTSacxferv+tSfwUFcto9H+6oxXGeeniZwhe96jp6TZE2h+ro4kDl59iSMTMQ7WcsYpIRKaHHnJ725P6XKjgGp9NsqMreBmat5Ld2lTRU6WND4nQiSTuJyUOsnCmvZqBP00eEjixKSMRmeFSJfwmbPLejo6nqoraZhuRC8wbsHvBiZ+SfiSioqOMRLLWU2hkTh38PZG8IBGpHoK8HUeEsuvBErzx2aRtv9QmFjaJNxTYvEjQ6CDIClFpKyQRV5LL6MntBsuHiJNETILxD3n8ZFQjEZF35Ow1ThIJpafAo3B7Hq2ARKR6yEhCdj0aEgk1V4xRaR7w3malHSy6xuY3TxSE+/L1GUULb0+EML/pfdCYWGUhiQSKm0TsMfWFUHFhEDAFi8fxxFMNJeImkaz1lD7B6eJpBSQi1UNGErLr0ZFI1nNl3BiEQLRbhAQbBT2o9eFNIo7EGk0uZrP92HIk4h32eEPhXjxOVm8pEnGHTd5Sq8qk9+DOJYjcZE5vYzv2hJkHMhKwQWRUMz87rHx56wHoNUIPl8XjyPSQkYTsehwkkoVN0k2NQO/QZPPwDDY7sta+JDL4yPWaixQmoZY9idiJMlYJe9fCvWNhJT+VX0hz9+HcBfJfsO77qaxOGVVyImySV9QHuwMVXE/+3QPh/QZxfEoGp2HrnEkXw4ZXwZEH4/UV75jJTM7jumN8fvfIvMdPD5k3FQWJqM139nPF62dqLdqFYsfIy5xIlmbQCm8T5URaoRooMiKQQwRy+Np7DrW2hkYSyYdZQBlaNwJIIkrf77TuSUbpEYE4EUg4icQJLfaNCCQDASSRZMwzaokIxIYAkkhs0GLHiEAyEEASScY8o5aIQGwIJJ5E5F9lOrAP+nZg7MV4YrMN7BgRUEIg8SRioqT8FiiSiJJhYaPkIIAkYsx1rCSiXIwnOYaHmhYOAmISEVVUEvyN/dpX9Co1e130BTBduH4Ff5yvglPYsyk65F2Mx55IPxJxftUc/LXzwjEY1AQRcCLg4YmIC8CwX/I6P1QTfbim12fVP2wSffQlK/ij7B0I51VWxIb/4MqvWBD3mXXQcAZtDhEocASUvuLtDM6PlwSFeWQVlgSLT1bwh16PtxiPzBMR6IkkUuBLAtULioCksplRLJeUR+QqmzFfXHIDsvVJBW2cYYCKpxF498QUSFrERsETEREjkkhQG8P2BY6AtNo7PcaAFinm64nIqnELCsx6eCLqxY4C1k2QFrHJjkTiq6lR4JaG6hUsAv67M0YyNdPuYhg7ma0Oruc4vEuyOQvM6r+/Kyhyo04iQQu8yIrYKJCIs6CPUQXfnVjV9at1VVEvWLtBxRABCwHJFq/f019S0Ic9doKEOff8/gbYvYcvchO04E/wXRFZMR5ZkRmCExOW0fHL+3wFk4yjFOzT+JBEcE0lFwElEpEfdZlcAFFzRCDpCEiP0eTPJ0k6XKg/IoAIOBEQkoi5I5LNEREIMSKACCQLAXztPVnzjdoiApEjgCQSOaTYISKQLASQRJI136gtIhA5AkgikUOKHSICyUIASSRZ843aIgKRI4Ak0rgDVqR3Qduq+TC2zSZYWHwKejU8BIPSwY5VFM/MV1D7mxfgi1LS97AQ/cUqY+Q2hR0mDAEkEckCrZ+8AF5ZnWHMon0AkkESSdh6SqS6SCIaidRBmnofqVr7/0JP5BPYRNq0VfZUoiQRVRkTaceodA4R8CCRRniuz81waPZ6uKB4DKyE74iIveHpht3wKLO4tk+5CIasOm2Ifz+8nlkJw+lh2jUPQOq1IlhWXwbT934DE6qrjX6u8++j57Nw9IPp0E35QO6WRk5EIjpR7PpQ91Yy0B1GZMbANZoO+rUv50yFTo+/aLRxejJmm5Hwk2Fb4AjpASCIt9PSGOB4iACPgC+JTN97pbXoTywbAF3rZkKmvFjrgf5e1rUW1hqxvkYoh2brJFAzDVJDX4T7qpphTHUHQjTdYMmxNXD+hFvg4Kwz/D3nKq0+tT6Y3/NvspwkohPA4ZFT4eGZnTRxm/68HFa83B2m7h8IneCURTBFVQu0vAi9vryuPyysuNpQzyShdlaY5G6Tf0igRIiAiYAvibALXvMuyoq8PQX2OiURo+15y241yKeb5t2su3MfHJiRJuPXwNTUk9ClYZft3TQ+B33S9fCo6dH4zlMjzC17E153tDnb7tewbVpP6BKLN+MgERIKLU+fgn6W50GFYdvoJMIlVrdthAUL2xskY3sr/m3QYBGB/EUgexIhC75vehbsgR9s7cxwRIVERPdrPbnDpvyBz0EiLkKgkrJ5ECSR/Jk7lCQuBLIkkeMOr4I6FoynokIiIk8kkJboiQSCCxsjAjEhkCWJbCehyGj4vupbI79BQ5PRsLLnIjsnIg1nAPI/B/IV7Jj0CfQop/kNPZ9h5zvsUITNidAt4U0H+3I5EQxnYrJe7DYvEMiSRIwdGJI81X96wzPbRsCWMoBKM7GqQCIA+i4Q3cGxfkresBKteYGQ8R7JabJrwu+8mNLREGezsatCdmdu6hcw3yHYBhaGSXmBBgqBCLgQwPdE0CgQAUQgFAJIIqHgw5sRAUQASQRtABFABEIhgCQSCj68GRFABJBE0AYQAUQgFAJIIqHgw5sRAUQASQRtABFABEIhgCQSCj68GRFABJBE0AYQAUQgFAIFTiK7yev4C0g9FL3Wx/VL18CBmZdxgG2fMoiUKjhn/U3UJhTCeDMiUOAIFDSJUILYWPyW/n1P43pSZmAHDG+o4Aor8fOrk873Ve9YNU8KfP5RPUQgNAK+JOJZuUwbVvDdC/krLUTEFSoyK5/lvGrZZ+Q7nRJYd0e5yxthUaTEM6dotW+b0KhjB4hAASHgSSK+lcvIF638F7g6odgFh9xf6Ob+i10FL4N4K73TJ2FWZq5e5hF/EAFEQIqAejjDVTbT64mwlc/48olhq5bpnk6Ulcu03MfH4+Doh+NcNVzZvAjmRKQ2gw0QAQ4BbxLxq1wm80TyrGrZiWWToOsjzaRerF8+RMdFI5Rzj5FyBP3RVBABREABAd96Imx44qyxyudLyEhcHRCBJ6IgDN8kGk8kCIFo49cshtSizkKPJbAKeAMikAAEPEhEr1TmWbkMtsOU1Gsw1Kegcu5zIAYhDD2p5IHoc60nX6dfMRc9kQQYP6oYDQLe4QzNgXhVLiPhjJYDeWQnLwXnjeS6ahn/jogt6AByPo6ZODVIY2+zdRlzItEYFvaSHATUE6ssJlrOYzMM4w6zcnovyQERNUUEkoxAdiSieSmH+dPshMSSZGhRd0QgGQhkRyIEG3c4k8/nxSRjMlFLRCAXCGRNIrkQFsdEBBCB/EMASST/5gQlQgRaFQJIIq1qulBYRCD/EEASyb85QYkQgVaFQOwk8uy1GZiZysDRgynXNyuRIvXZepiwIAPzKu+BX5kfzxmn17Wtmg9j22yChcWnoFfDQzAobXxcx5xu1zxxFCysuJqIJDiRLrSgep87z5nHa0b4cV82OuAJe8IZpcekPj+jSbtm24Nk8oNiKbNJma2d2gd/WPkPqCft/tdtMDSOTpP/fQ2VL7wEDX0fhKeuitC2ZLIY1/OeRLZNyEBpD4CP/+gHzm5YPHAB/DD/HVjUn2knmTB6bu476anw8MzT5CjMWmhLCOa66hWwvK6/QSiKKEqbxUciWekQ1PCl+hVWA0omyjYQFMuQJLLzlRXwl3ZjYOvA/5IPVPdD5yljYXDdS/C7phsNQmn5uYidRMKqpEIie8oGwapfroZ1917GD6dNWB2kqfdBSML6v+GJOBdgu+oecKS4CfplxsA1raQUQFY6BDX8sJPYyu6Pn0S8bVIGlZNELhtxOby15QxMnnc7/DZHNutJIjQMObwY4LzhABVGecGnG1JWVbDGpRkYRTTeTP6lH9XLD16zJGV5DPS6+XcYTw66rmzjwsdvDO5+9k5nXySMKRl/EsbVzoUBQUFkQoG2z4yCqzdvgS9KSehDK6FZP7oXsetDXUf6U1S1wNHGe+rVXOQQYyjpAEDJ5pXVtg78weMS02XJmAsFjcXAkLI5hqh/Vgbn4egUp5eaR8FdbTZbIUXbpQ8QL7FTZHNhhqrmXIoPaAeQkUgoLGUsIbvOhDNFfQZD8dG3chbGmKL6ksjMQxlSqSylVSrTFvUGO7dhLfJrQc93HAO4sVsGRjNEQwfR2tVnPEmEjmGSk6itzBP59/pJcNeJcbBnfshP98nTef7WHq4wRmZQsjk3r/v1E9UY4KEDNfqN50baugX2RHSSOzyShn76onbK7BzD+Ttt/3bRgxb50uubDto5IpNsLfJpdHuO4XAS67Di5e4wdf9A6MQ8gPzGCY+lqsUotKv7OxTVdclZGKNEItQTMUsd0hsmkQRpugE0b8RJKs7r5gAyEuHGeCMDqbl8EtafRD6DDSUl8Gb/cncoozAHdpNPrJyIlXQ1LlKDWjGjPYwIGeLISCT8GF46CP4emEQIGNw9pzRSsb02wRjEe1mePuUdGjpk0HDmFrS7z1BzIZRHjJn3XEWEZSDb9GpMS2XoOZH7O7R8MpWVShrO+JKIh4fBDtASJNJw79t8QjXgJFl5he47yQ4OzXvzIYtaSOI/qOwpGnYMTx2uqHUv5mxIBJgFRPJLy+8m4az5BGdCKh6F9vZumKANG/LI8GE9usA7KPRmoc7inThPWURElBWWAQ1U0NzKjXT8J1yz9bjWYsidebY7Y+YrLBI5ltHClXmZlFZ/1I8cWppEQnkihhE8sL8j7DR2aAY1boIFC9u73Fwzpn6vBxMaKNqD6iLJagwfHaZtSMEmh0fgfuqrKWESFc1b0PyFna/w9uT0nt2hhHNRq+Njyqr3qTwXUXgigj6yxVINcY9WJIzpvvOnUDOtPawxvZGmN7W/bZvWE7oEzQ2GEgZA2ROhYUUxSbCaCdKWIhFR2MTqHC4nwhp/nR3SeJKIPOnmNR9BFkmQtsB6CGQnytyqtonwKjjC5jMI4VBvK1Bi1VTKSLBmbr4I+u3jd7BcuQIOCIrzZviRvq+jJa313+tv4nMiytuqRt/BcHITmTMvw3o7YlkcfXhiaegHV4QOg932xIYxx+2QJl9JhCY9rZ/x/A6LjES0l8zY+2lHjj5c3o4gJ0Jv4/py9AEhdmfs7VE7Wai7yqYbrsf+7M5MsMXn3nWh+vAvMrnbBBlDrgM9c4dude+C0/QhcFM/mDb/NDwv9LRkjyS/p79bD05PY8HpI7SHPnQ7fSFYIZGcEMLhpI+rL+4jxm4jj7PKXJEulLCMj0TsLd72mkaf1f4Nhu05QzT6GTw85e6c5EeUPRGZeeXyuud7IrkUqiDHjuNt3oIEKlFKFQSJAHi8sZqoqYxf2ZzE//GrhSOERKBASIT6dYJvZ0KCg7frCFjvcED3GGJ8RLm1I5D3r723doBRfkSg0BFAEin0GUb9EIGYEUASiRlg7B4RKHQEkEQKfYZRP0QgZgSQRGIGGLtHBAodATUSwZ2PEHZAPhKcuAjOziuH8Zd5fSil0iaECHgrIhAjAgokgu9ghMZ/92K4dV4zzPereaLSJrQg2AEiED0CUhLBt0GjAV3lGx+VNtFIg70gAtEh4E8int+l6Id1H5q9Hi4oHgMr4TsikfsEvO1TLoIhq04b0t5PDtJeqX0BrP3QozhfK4Jl9WUwfe83MKG62ujrOu54Tq6Pns/C0Q+mR17w2VdOEBxMTsS/r6rZqrWiJiP16NbCpWv8whqVNtFNPvaECESBgC+JeD8ZzYV1pbXgtWM162ZCprxYk4v+Xta1ll9oh2bbJKCd5/uithjHVHcgZNMNlhxbA+dPuAUOzjqj3actznOVVp/O36MAQCYnP6au97o798GBGbTKNgSSUcWrU2kThd7YByIQFQI+JOJXNUxfTOZitzyLsiJvT4GSBnud+f28ZbcaBNSNWaTHYWrqSejSsMuq6wrk0PA+6Xp4lPVookLC7IeT87hLT54sawLJSEn5nnf7wdrKcfaxFg75VdpErTL2hwiEQUBKIuKqYQokQhZ83/Qs2AM/2PKx4YiMRIbXuO/Xeor44HCJnL6eiOhePxlJ8rT/ms6+JAIqbcLMON6LCESMgJRExFXDZCSiP8FZt1/LgYT1RCJWnhSHkMrJ50uIACVvWOEVSey4PREfGVUSpyptIocBO0QEQiAQKifiHc5sJ4trNHxf9a2RE6GLbTSs7LmIz4kYpCIOZ9KufINYT30L+t1Mf/8tVOHNulzecm6HKanXYKhP+BQkT6OS71BpE2K+8VZEIHIEQu3O+OZEjMSpLnFveGbbCNhSBlBp7q7IwhktcSnYGeE8Ab13uvDm1f4C7l1T4fNClwd2Ejm1HMgjO/mbORnUZNRrnuDuTOQWjB3mHIGCeE+EhgD3VnTOwhOR4K/lPDbDsIbddnJXC2FY70VtDlXCFJU2aqNhK0Sg5RCQkkheVw2j77FMqISTWYUyCiBrXsph7r0VukPkJhZJXypvo6q0URAZmyACLY2AAokQkRL87Yw7nAm6O6TyXYxKm5Y2DRwPEVBD4P8YArrjHpjCBgAAAABJRU5ErkJggg==)"
      ],
      "metadata": {
        "id": "sJpDVYKu3AuV"
      }
    },
    {
      "cell_type": "code",
      "source": [
        "# Hier ausprobieren:\n"
      ],
      "metadata": {
        "id": "FcGTvlrp3Iv0"
      },
      "execution_count": null,
      "outputs": []
    },
    {
      "cell_type": "markdown",
      "source": [
        "Jedes Objekt, das kein String ist, kann auch mit dem `%s`-Operator formatiert werden. Zum Beispiel:\n",
        "\n",
        "![image.png](data:image/png;base64,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)"
      ],
      "metadata": {
        "id": "FZf70TI13O8T"
      }
    },
    {
      "cell_type": "code",
      "source": [
        "# Hier ausprobieren:\n"
      ],
      "metadata": {
        "id": "iT49lbQ-3WkR"
      },
      "execution_count": 16,
      "outputs": []
    },
    {
      "cell_type": "markdown",
      "source": [
        "Hier sind einige einfache Argumente, die Sie kennen sollten:\n",
        "\n",
        "`%s` - Zeichenkette (oder jedes Objekt mit einer Zeichenkettendarstellung, wie z. B. Zahlen)\n",
        "\n",
        "`%d` - Ganzzahlen\n",
        "\n",
        "`%f` - Fließkommazahlen\n",
        "\n",
        "`%.<Anzahl der Ziffern>f` - Fließkommazahlen mit einer festen Anzahl von Ziffern rechts des Punktes.\n",
        "\n",
        "`%x/%X` - Ganzzahlen in Hexadezimal-Darstellung (Klein-/Großbuchstaben)\n",
        "\n",
        "## Übung\n",
        "Sie müssen einen Formatstring schreiben, der die Daten mit der folgenden Syntax ausgibt:\n",
        "\n",
        "`Hello John Doe. Your current balance is $53.44.`"
      ],
      "metadata": {
        "id": "m_ttBRKH3iBa"
      }
    },
    {
      "cell_type": "code",
      "source": [
        "data = (\"John\", \"Doe\", 53.44)\n",
        "\n",
        "# TODO: Hier deinen Formatting-String eingeben:\n",
        "format_string = ...\n",
        "\n",
        "print(format_string % data)"
      ],
      "metadata": {
        "id": "_gQS5Ea73gtg"
      },
      "execution_count": null,
      "outputs": []
    },
    {
      "cell_type": "markdown",
      "source": [
        "# Basic String Operationen\n",
        "Strings sind Textstücke. Sie können als alles zwischen Anführungszeichen definiert werden:\n",
        "\n",
        "![image.png](data:image/png;base64,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)"
      ],
      "metadata": {
        "id": "PI9QwKmF4rBB"
      }
    },
    {
      "cell_type": "code",
      "source": [
        "# Hier ausprobieren:\n"
      ],
      "metadata": {
        "id": "xS8Uoo9N49Zc"
      },
      "execution_count": null,
      "outputs": []
    },
    {
      "cell_type": "markdown",
      "source": [
        "Wie Sie sehen, war das erste, was Sie gelernt haben, das Drucken eines einfachen Satzes. Dieser Satz wurde von Python als String gespeichert. Doch anstatt Strings sofort auszudrucken, werden wir die verschiedenen Dinge erkunden, die man mit ihnen machen kann.\n",
        "\n",
        "Das hier sollte 12 ausgeben, da \"Hello World\" einschließlich Punkt- und Abstandzeichen 12 Zeichen lang ist:\n",
        "\n",
        "![image.png](data:image/png;base64,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)"
      ],
      "metadata": {
        "id": "yfipH5Yp5AJf"
      }
    },
    {
      "cell_type": "code",
      "source": [
        "# Probiere es aus:\n"
      ],
      "metadata": {
        "id": "RLLb_HXi5fr5"
      },
      "execution_count": null,
      "outputs": []
    },
    {
      "cell_type": "markdown",
      "source": [
        "Folgender Code gibt 4 aus, weil das erste Vorkommen des Buchstabens \"o\" 4 Zeichen vom ersten Zeichen entfernt ist. Beachten Sie, dass es in dem Satz zwei \"o\" gibt - diese Methode erkennt nur das erste.\n",
        "\n",
        "Aber warum hat es nicht 5 ausgedruckt? Ist \"o\" nicht das fünfte Zeichen in der Zeichenkette? Der Einfachheit halber beginnt Python (und die meisten anderen Programmiersprachen) bei 0 statt bei 1 zu zählen. Der Index von \"o\" ist also 4.\n",
        "\n",
        "![image.png](data:image/png;base64,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)"
      ],
      "metadata": {
        "id": "gzRYERyr5hiO"
      }
    },
    {
      "cell_type": "code",
      "source": [
        "# Probiere es aus:\n"
      ],
      "metadata": {
        "id": "JhFCZOJM6E8u"
      },
      "execution_count": null,
      "outputs": []
    },
    {
      "cell_type": "markdown",
      "source": [
        "Die Funktion `count()` zählt, wie oft ein Zeichen im String vorkommt.\n",
        "\n",
        "![image.png](data:image/png;base64,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)"
      ],
      "metadata": {
        "id": "Lagdr6QE6ZHg"
      }
    },
    {
      "cell_type": "code",
      "source": [
        "# Welches Ergebnis bekommst du hier?\n"
      ],
      "metadata": {
        "id": "y9Jy5LkR6oTL"
      },
      "execution_count": 17,
      "outputs": []
    },
    {
      "cell_type": "markdown",
      "source": [
        "Mit dem folgenden Befehl wird ein Teil der Zeichenkette gedruckt, der bei Index 3 beginnt und bei Index 6 endet.\n",
        "\n",
        "Wenn Sie nur eine Zahl in den Klammern haben, erhalten Sie das einzelne Zeichen bei diesem Index. Wenn Sie die erste Zahl weglassen, aber den Doppelpunkt beibehalten, erhalten Sie ein Stück vom Anfang bis zu der Zahl, die Sie drin gelassen haben. Wenn Sie die zweite Zahl weglassen, erhalten Sie einen Ausschnitt von der ersten Zahl bis zum Ende.\n",
        "\n",
        "![image.png](data:image/png;base64,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)\n",
        "\n",
        "Sie können sogar negative Zahlen in die Klammern setzen. Sie sind eine einfache Möglichkeit, am Ende der Zeichenkette zu beginnen, anstatt am Anfang. Auf diese Weise bedeutet -3 \"Drittes Zeichen vom Ende\"."
      ],
      "metadata": {
        "id": "m1jcPhME7Hcv"
      }
    },
    {
      "cell_type": "code",
      "source": [
        "# Probiere es aus:\n"
      ],
      "metadata": {
        "id": "e4iHWdef6uUo"
      },
      "execution_count": 20,
      "outputs": []
    },
    {
      "cell_type": "markdown",
      "source": [
        "Dieser Befehl gibt die Zeichen der Zeichenkette von 3 bis 7 aus, wobei ein Zeichen übersprungen wird. Die allgemeine Form ist `[start:stop:step]`.\n",
        "\n",
        "![image.png](data:image/png;base64,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)"
      ],
      "metadata": {
        "id": "ZzFCXNb27ky_"
      }
    },
    {
      "cell_type": "code",
      "source": [
        "# Hier ausprobieren:\n"
      ],
      "metadata": {
        "id": "RJcTvWzZ7a5d"
      },
      "execution_count": null,
      "outputs": []
    },
    {
      "cell_type": "markdown",
      "source": [
        "Diese Befehle erzeugen eine neue Zeichenkette, bei der alle Buchstaben in Großbuchstaben bzw. Kleinbuchstaben umgewandelt werden.\n",
        "\n",
        "![image.png](data:image/png;base64,iVBORw0KGgoAAAANSUhEUgAAASAAAABQCAYAAAC51qj1AAAQs0lEQVR4Xu1dbYxVxRl+L5r+J4WEH8aikQtIxTStLSKwasIf3SVRqEYLFFmKSA0JssVqA7sLJtaiqMmCRZAlFFNYtylgwRi1WxdN1R8GxV1cFkxMkzYu1DRpGlt093bmfN0z58zMO+fr3nvOfW9iIjtf7zwz89x33pl5bqnCPtCAn6+++qYBrSKTCAFCIE0ESo1KQGl2kuoiBAiBxkSACKgxx4WsIgSaAgEioKYYZuokIdCYCBABNea4kFWEQFMgkBMCGoXnFvwQNo5vgU//uhFmQilfgzP6Z9hVHoTJxzvh/kl90N06BvNHHobF5fT6cXFnD+zedNHCZWL1Muh+6QYBIyw9L4BG7seJI9DVPQXWfXA7TPPNm+G1XXBkfGkIJ6jBWOUF61rYmTkBvfbgVPhV+V34cFM5QX8KTkBs0veUx2BR5V6Y6y2ST6CvNACTIxIVX6A9Qy3hheWgj6UnGKSaFjXuBxFQTcclamM5IaCo3Wqw/Na36hCUOZkwUvH+3/WAiIAiD1gaBPRmeR1s6Jgmto2NVWRLqYAOAZSAuAdzx4uXnDp+Bscqe2CJ9y3teCbv/str46fHJ+BAWwkuPHsrXPfI2+G221+Fyr5W7+88348nXoRXJq318n/v6RHPYxLqCZQFsNv/+LFD8K3We2EP/IfVews8NXIKNnvbm7CNvHHXzoaYHoYExLcNr+y1r21VbloU2lbwv2MLU5/+BQzc/AIMvue0AbPhbsErU6OlqpfbXF3o+vp5Hb+fWAb3Ter3tpOTdzwUJgmkn36cVFiJdjXELGhKI7QExBf/9usGLELhH4uMPn7Mi8NY5DDUIRBKEEVsC+YRzLxn7HpHn4eF5X5oE0gEbEILteWSyxyPdIL5LJvHex0b7fwH73o/4ZYw5bliQEDBmIUqhhGfgGxyOLO06hXwunYdni0luhACmq3O6TYW+2obQ+t34zseuY5KvEWnYR3hCbEdjV1SDyjloaXq9AigHpBQ/ORDUNo+QySgR8oBr0hs0IiA+pb4gssnYV3pSbh2ZNDnxegJ6PSjX3okCYKN5y3C8aebkKbYg1HYsv11OBbA8etvfx9OrJ8H16YREHcCn5cgeCl9ihOsHgrHg6SklcADMiBB7VTi5X9SgWUs2HvFzl2WJ7Oho2SRzj8eZwQ0awCNc4UJTx0HkxOQJL+CgFxvK7QFI8aoKQJ6Ahp9jnkjj8I7cLlqlOupOAtPv0WyvSZdENqUEHQekJqASrbXlncPyIobDYKaoKqnabE9IOlCtb0ii0AcL1g9O/ni/wRmVW6Df64ZgDGYCi37vgtn5/XBNwdZ7Gu0T3IaJdaP2e5vW5pXRqJEQDUllKiNaQhIsl0JeEBBT8E6Kp/1O2FL1hAE5MWwmMWhOBIGWW08IP0pmMQDUpiNLWJlelIPCGwCmn1uKgwdmwNzR/rh75tb4EsWfJ/F40hsO4Wd9GG2xyGgSNtIbCpQeuoIaAiIb4Xugf8e/7ezvbH/vWfeNuVdHJmXYv1N2GKJfcjWA3oNHiwdhTuFwHnqGCav0GDxK++tBFrHFrE6PRwD4m32nV5oFgMCVp55O2Ps+tH4koet+049R9mW8qOp1rZsGvOJgjGmYP2Y7SgBcRv8cSzm/XS3DksC9na+t8dN+5Z8iKkGOQL6LRj3eO78rVPyFnj6xN3wh+0AvdZlQDu+stF3AgaB7ZldMHAKJTkFUwey5SdYVS/GTtdtwaSncZG9oIynjwEBgbO43BMqblH1wqF4uuRaa57uluBeTD+cdWJRqpM2FRoWoeyd5Zycca+tH4ZW+y/76evHCQjrJ59u9qVPvl3l9q/vvAS7QxcRiYAyntHG1UcLQhtX2yAZrRhW8EQt6Nk1iK1kBiHQhAgUm4AsD+6MeC9ISkpNOPLUZUKgARAoNgExgMNbsOBFxQYYBTKBEGhSBApPQE06rtRtQiAXCBAB5WKYyEhCoJgIEAEVc1ypV4RALhAgAsrFMJGRhEAxEagJAT1zYwU6ShX49HQpWzGxzw/BA10V2Nq7HK5J441WqmOec02jVLHIurK4WEvulWGmyuZcDUTNMGE2LB3rFi7M9jm8vHobfL11H6yarhLWw/PkgoBOPFCBx69nl2p/oVMQPAVP3N4FlzvfhG0t6SkNugOFPSlBB9S9kNngqo7J+6lHIuv67db1BKS2ISoBKeacjoCMLp3is8nNgV3exNKVLZmQ6Kkn4LatE9A5sAVuVX3hI3lqQkDmcMpzmhDQO9sXw4vf2QsHV05P2py0fG0WTiamR6o0635mXb9JZ9MiIOWc04ma5YqANCJ6DtB/O7QG7ruwAt7pbFFCr8ujJSC+dTrzBMCVSwBecq7nPzVS8mQyRncw+QXWbD/7r7zZlpKY+5uS56nwdPfvsIqJaPVOChmpa0Mo7y8ZrIu5we2rPoMVCibWi6r5vjFjCqslE1Wrtp+tsJpaPI5bYCogp8NSh4NZ/QY2SvSn/ISiU2fAbbDb/+iX78ONv/6R88xIcW8MmXM6zwJ7lMvLmojP8XyYh4O9/YsjPif2jXuBB+Cq/bqtmDoPSkAdH1eYemDJepBqEcLL1ViORxA3gh3fOQfwg5kVuMdHUtby4uWG2dscBQHxNlxik+XFPCAdw2Kiat7iSyCslkxUzU+A2QmrmT761XkoGJYmOGD1awXuFGoMvM4jTOjfFc7DxhTzgPj7RkHZUzI3TL75pSRk4AGZis/FJ6CE4nOBjpnsPlR5UALiHpB/YNewYHJ5BCwvKEhI3C5/umsnRkBCG69WoLRFDFjrCYgFutrb4fWWfWbbL8kkthdOfGG18Iv/KKJqVQLKUljNpI/ckkhbJJlAHSIuhxKQbhzYM5r5Kyesx9BXPnubJeX74aZS+EGy69EpvlQwAtI9brbndMQ551+wKYrPxSYgAxJUenCSBE7Gy99aBAd6VygPf1R5khOQwrMRMEc8oDQIaGTlG/Lgs4GoWmgLInktjy4cxIPSfyvjr/rTEFbDxONQAkKwNPGyMILT23jSkVfpgAtrn4GzlZnQsbcNTi5YDZf3myho2rMyLQJSzjnd6sUWfwTxudgElFh8LtBBFmhu2X+1loBAkScaAZ2rWFusrZWSJUyv82xqTUByDyiqqJpvOxRBWM1k4aVCQImE1YQRsaVUAn00WZyCnrbMA0qwlRWntRMPEmy0CahtdDb88eidsGx0DXzS8SicLx8LaT7pxiQtAjL2ugMeUFric7EJCCPBiL9XZ7IdVeWJREB8K9TKdVacWE6tCEi21fOPqRqA6KJqKqLQCatlT0Cmwmr2sfBblRb90ahmi6LuJ46lCQ6YQJ1/XMP1cVJaDWfnAPyvdRAOXLEe5h8dBzgzy9Goql6/0NmitgH3RF37TBad1BEyWPym4nOxCSgo3MYqiiY+J/Ys0xgQDxB7n1XiSRZGQNYFRH95XlGgDvcUzIszSWJAvJhQV6AO0J1IaEXV+ISViJ5FFFbTLzxMVK3qdSUXVlMRkGkffR6geyLo344iWJoQkFqgzsxG+xTuLueHEF6zVTrbDwu/eiKI5PEuKX7OycvnpZsTkHbOSZnH+aMBAenF53g9mDAbls7rSCY+V+1ixqdgwSC0Dtt6ppmwcD3tS9Q2Caslgi+rwoWec4agmXiCie8B+U/BDO2qQ7Zsb0LXoUPVJklYra7wqxsv8JwzQTzrm9Ch7ZGJUfXM09BvwZIBQ8JqyfDLrHSB55weM/ydl3VdAXkvlounGJlNHqqYECAE6ooAEVBd4afGCYHmRoAIqLnHn3pPCNQVASKgusJPjRMCzY0AEVBzjz/1nhCoKwI1ISBSRORjHFelr67zQ9+44nV6MouT4BRVUCyZpVQ6OQK5ICBMjsOGIds7GdgjSnwokiwsvPa65KgTAUV6y1UXYKhRUwRqQkCmxqjymRBQ1rdSkxNQUhQasHwmBIT3kwgIxygvOYweo5Ii4tvh8fS9L8qHIqItQ3GH+6I+9N7N9tD0qoyBOjgqQj1qRUPVOzFTNUPeVKqKhnlZoQW3EyUgUkS0ZwCqB/QIIyl3MY4+DwvL/dA2csqTr/UWkFSuwl242SkiinpCDpGM9zqPOLl1UW1gRaLIcaSkZqgfiyoBYoqGBV/XuekeSkCkiGhIQIgSoAkBZaeIKFFoZA9cF5SHYXNlj6Xt5BKQ2gb+8vxJuHbEJ/wlIyCVomFKaoYmBIQrGuZmfRbe0OQERIqI9tagkRURZUqG1tT2C64jUhTMqxMJK+wBhbZJggxGOmqGREDF4qRoBESKiEyDuByaATUjoNiKiHKNarEj0QlILy4WVDRMR82QCKiJCYgUEZfAp0wQfWbgR9iyJ6DkiojBGFB4GmNiXOetILUnyeqKk0nF2+zaRVzSUTP06hW2vG5vsD6k/4OVxaKD2vcG9YBIEVGc3GEVveBCCw5iIygicpskdghbJIPF69/KMeIZ3XIOZmwvO6RsE5SgRhggp3TUDCV9iaNoWPu1Ri1KEEAJiBQRG2DekCJiAwwCmZAFAoUhoKxvQmcBvnGdpIhoDBVlzBcCBSIgBnyB1elIETFfC4usNUMgF08xzLpCuQgBQiBvCBAB5W3EyF5CoEAIEAEVaDCpK4RA3hAgAsrbiJG9hECBECACKtBgUlcIgbwhYE5AshMm9jOzu8qDMPl4J9w/qQ+6W8dg/sjDsDjij9tHAu3EEejqngLrPrgdpvlvJDu2XGK/Xc8/k3c8BBs6pkWq2jhzHm0wGivsd5ywdGMEKSMhYCFgSEAKtUGjSZ0y0tLFb//O9TecCNtqcN0+jzaYjhX2a5dYesrDTdUVGwEjAlKqDVqTegjK3OspDVT/v9YeELOjpzwGiyr3wtzAO61Mhk9GQI1uQ4Sxwn7vG0vPBHOqtJAI4ATEtl7tqz6DFQNb4NYYi3t4bRe8stfeFlVgNtwdIokvYODmF2DwPTsP/8w43iV4Mv46rHpuWiRuwZDFTzZEnbvc4z0AV+3fB6umyzxKLD1qe5S/WRFACSjJt93FnT3wxoyfe2TCiaDv9EKBPHienqEW6H7pBukY8DJHxpdW033exxU7d8HuTRdD5fxERzbE8woxjW0svVkXFPU7GgIIAbGgY3s7vN6yDw6unB6tZlluydaFE8SuTVMknhGvgMd2BmCyP7CddPtDNhiNI//iWf7WIjjQuwKukXi+WLpRI5Sp6REwIqCRlW/AtpYYwd3AyZR0+8T+yEnI9WQmVi+rejuyrVVUAiIb4k1yFmxu2X+1koAAS4/XKpVqMgSMCCieB2THds4sXVc9DlcdX3ug22X+cr2z5ZIQkOUxHZ5tGAMiG+LOZ2zrjaXHbZfKNRcCGcaAgkfj9r+HbxJjQEG4xZhQgEAYgXW3DkcIQpMNcaczFuPB0uO2S+WaCwGUgLjERexTMIcwbEinwII/XQ9nuwGWeZcIwydgshMuftmRXzDkaes7L8Hu4EVE3SkY2RBjRmOnXFh6jCapSFMigBMQg4W+7ZprbmDbKyy9udCi3iZBwIiACq02mAS9IpbFbjpj6UXEhPqUGQKGBMTaL7DaYGbo5q5i7K0Xlp67DpPBdUbAnIDqbCg1TwgQAsVDgAioeGNKPSIEcoMAEVBuhooMJQSKhwARUPHGlHpECOQGASKg3AwVGUoIFA8BIqDijSn1iBDIDQJEQLkZKjKUECgeAkRAxRtT6hEhkBsEiIByM1RkKCFQPAT+D9DG0ie+QzLQAAAAAElFTkSuQmCC)"
      ],
      "metadata": {
        "id": "Ijm5npeV8tN7"
      }
    },
    {
      "cell_type": "code",
      "source": [
        "# Hier ausprobieren:\n"
      ],
      "metadata": {
        "id": "F79rAxEY8yzR"
      },
      "execution_count": null,
      "outputs": []
    },
    {
      "cell_type": "markdown",
      "source": [
        "Mit folgenden Befehlen wird festgestellt, ob die Zeichenkette mit etwas beginnt bzw. mit etwas endet. Im ersten Fall wird True ausgegeben, da die Zeichenkette mit \"Hello\" beginnt. Die zweite wird False ausgeben, da die Zeichenkette sicher nicht mit \"asdfasdfasdf\" endet.\n",
        "\n",
        "![image.png](data:image/png;base64,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)"
      ],
      "metadata": {
        "id": "FRz6WGPy84O2"
      }
    },
    {
      "cell_type": "code",
      "source": [
        "# Dein Code:\n"
      ],
      "metadata": {
        "id": "ujS2lvGl9CUz"
      },
      "execution_count": null,
      "outputs": []
    },
    {
      "cell_type": "markdown",
      "source": [
        "Mit der Methode `split()` wird die Zeichenkette in eine Reihe von Zeichenketten aufgeteilt, die in einer Liste gruppiert werden. Da in diesem Beispiel an einem Leerzeichen geteilt wird, ist das erste Element in der Liste \"Hello\" und das zweite \"world!\".\n",
        "\n",
        "\n",
        "![image.png](data:image/png;base64,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)"
      ],
      "metadata": {
        "id": "NOmGik0M9H61"
      }
    },
    {
      "cell_type": "code",
      "source": [
        "# Dein Code:\n"
      ],
      "metadata": {
        "id": "5e_ZR1zQ9IYL"
      },
      "execution_count": null,
      "outputs": []
    },
    {
      "cell_type": "markdown",
      "source": [
        "## Übung\n",
        "Versuchen Sie, den Code so zu ändern, dass er die richtigen Informationen ausgibt, indem Sie die Zeichenfolge ändern.\n",
        "\n",
        "\n"
      ],
      "metadata": {
        "id": "khdZ9FPl9iOA"
      }
    },
    {
      "cell_type": "code",
      "source": [
        "s = \"Hey there! what should this string be?\"\n",
        "# Die Länge sollte 20 sein\n",
        "print(\"Länge von s = %d\" % ...)\n",
        "\n",
        "# Erstes Vorkommen von \"a\" sollte an Index 8 sein\n",
        "print(\"Das erste Vorkommen des Buchstabens a = %d\" % ...)\n",
        "\n",
        "# Anzahl der \"a\"s sollte 2 sein\n",
        "print(\"a kommt %d Mal vor\" % ...)\n",
        "\n",
        "# Den String in Teile aufteilen\n",
        "print(\"Die ersten fünf Zeichen sind '%s'\" % ...) # Start bis 5\n",
        "print(\"Die nächsten fünf Zeichen sind '%s'\" % ...) # 5 bis 10\n",
        "print(\"Das dreizehnte Zeichen ist '%s'\" % ...) # Nur Nummer 12\n",
        "print(\"Die Zeichen mit ungeradem Index sind '%s'\" % ...) #(0-basierte Indizierung)\n",
        "print(\"Die letzten fünf Zeichen sind '%s'\" % ...) # 5. von hinten bis zum Ende\n",
        "\n",
        "# Alles in Großbuchstaben umwandeln\n",
        "print(\"String in Großbuchstaben: %s\" % ...)\n",
        "\n",
        "# Alles in Kleinbuchstaben umwandeln\n",
        "print(\"String in Kleinbuchstaben: %s\" % ...)\n",
        "\n",
        "# Überprüfen, wie ein String beginnt\n",
        "if ...:\n",
        "    print(\"String beginnt mit 'Str'. Gut!\")\n",
        "\n",
        "# Überprüfen, wie ein String endet\n",
        "if ...:\n",
        "    print(\"String endet mit 'be?'. Gut!\")\n",
        "\n",
        "# Den String in drei separate Strings aufteilen,\n",
        "# die jeweils nur ein Wort enthalten\n",
        "print(\"Teile die Wörter des Strings auf: %s\" % s.split(\" \"))"
      ],
      "metadata": {
        "id": "xv6Ism-E9oLQ"
      },
      "execution_count": null,
      "outputs": []
    },
    {
      "cell_type": "markdown",
      "source": [
        "# Bedingungen\n",
        "Python verwendet boolesche Logik, um Bedingungen auszuwerten. Die booleschen Werte True und False werden zurückgegeben, wenn ein Ausdruck verglichen oder ausgewertet wird. Zum Beispiel:\n",
        "\n",
        "![image.png](data:image/png;base64,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)"
      ],
      "metadata": {
        "id": "ZbZsKsgAAIFy"
      }
    },
    {
      "cell_type": "code",
      "source": [
        "# Probiere es aus:\n"
      ],
      "metadata": {
        "id": "QXrRv3eT9sIh"
      },
      "execution_count": null,
      "outputs": []
    },
    {
      "cell_type": "markdown",
      "source": [
        "## Boolesche Operatoren\n",
        "Mit den booleschen Operatoren \"und\" und \"oder\" lassen sich zum Beispiel komplexe boolesche Ausdrücke bilden:\n",
        "\n",
        "![image.png](data:image/png;base64,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)"
      ],
      "metadata": {
        "id": "4mBpCWe4AZzI"
      }
    },
    {
      "cell_type": "code",
      "source": [
        "# Hier ausprobieren:\n"
      ],
      "metadata": {
        "id": "-WCuAojMAuXZ"
      },
      "execution_count": null,
      "outputs": []
    },
    {
      "cell_type": "markdown",
      "source": [
        "## Der \"in\" Operator\n",
        "Der „in“-Operator kann verwendet werden, um zu prüfen, ob ein bestimmtes Objekt innerhalb eines iterierbaren Objektcontainers, z. B. einer Liste, existiert:\n",
        "\n",
        "![image.png](data:image/png;base64,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)"
      ],
      "metadata": {
        "id": "CsD8tJKHAyFu"
      }
    },
    {
      "cell_type": "code",
      "source": [
        "# Hier ausprobieren:\n"
      ],
      "metadata": {
        "id": "wz3Mc86sA8VW"
      },
      "execution_count": null,
      "outputs": []
    },
    {
      "cell_type": "markdown",
      "source": [
        "Python verwendet Einrückungen, um Codeblöcke zu definieren, anstelle von Klammern. Die Standardeinrückung in Python beträgt 4 Leerzeichen, obwohl Tabulatoren und jede andere Leerzeichengröße funktionieren, solange sie konsistent ist.\n",
        "\n",
        "Hier ist ein Beispiel für die Verwendung der \"if\"-Anweisung von Python mit Codeblöcken:\n",
        "\n",
        "![image.png](data:image/png;base64,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)"
      ],
      "metadata": {
        "id": "5qAJoagtA_gr"
      }
    },
    {
      "cell_type": "code",
      "source": [
        "# Probiere es aus:\n"
      ],
      "metadata": {
        "id": "UgmK_ItwBoqN"
      },
      "execution_count": null,
      "outputs": []
    },
    {
      "cell_type": "markdown",
      "source": [
        "## Der \"is\" Operator\n",
        "Im Gegensatz zum doppelten Gleichheitsoperator \"==\" überprüft der Operator \"is\" nicht mit die Werten der Variablen, sondern die Instanzen selbst. Zum Beispiel:\n",
        "\n",
        "![image.png](data:image/png;base64,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)"
      ],
      "metadata": {
        "id": "uEyrz3IkBtUM"
      }
    },
    {
      "cell_type": "code",
      "source": [
        "# Hier ausprobieren:\n"
      ],
      "metadata": {
        "id": "QOkW6FydBvDb"
      },
      "execution_count": null,
      "outputs": []
    },
    {
      "cell_type": "markdown",
      "source": [
        "## Der \"not\" Operator\n",
        "Die Verwendung von „not“ vor einem booleschen Ausdruck invertiert diesen:\n",
        "\n",
        "![image.png](data:image/png;base64,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)"
      ],
      "metadata": {
        "id": "bDyX5i1gCAmK"
      }
    },
    {
      "cell_type": "code",
      "source": [
        "# Hier ausprobieren:\n"
      ],
      "metadata": {
        "id": "juQQewtyCKRJ"
      },
      "execution_count": null,
      "outputs": []
    },
    {
      "cell_type": "markdown",
      "source": [
        "## Übung\n",
        "Ändern Sie die Variablen im ersten Abschnitt, so dass jede if-Anweisung als True aufgelöst wird.\n"
      ],
      "metadata": {
        "id": "Ll4KRRLkCMjc"
      }
    },
    {
      "cell_type": "code",
      "source": [
        "# TODO: Diesen Code ändern\n",
        "number = 10\n",
        "second_number = 10\n",
        "first_array = []\n",
        "second_array = [1,2,3]\n",
        "\n",
        "if number > 15:\n",
        "    print(\"1\")\n",
        "\n",
        "if first_array:\n",
        "    print(\"2\")\n",
        "\n",
        "if len(second_array) == 2:\n",
        "    print(\"3\")\n",
        "\n",
        "if len(first_array) + len(second_array) == 5:\n",
        "    print(\"4\")\n",
        "\n",
        "if first_array and first_array[0] == 1:\n",
        "    print(\"5\")\n",
        "\n",
        "if not second_number:\n",
        "    print(\"6\")"
      ],
      "metadata": {
        "id": "AbiDSjUFCRXi"
      },
      "execution_count": null,
      "outputs": []
    },
    {
      "cell_type": "markdown",
      "source": [
        "# Schleifen\n",
        "Es gibt zwei Arten von Schleifen in Python, \"for\" und \"while\".\n",
        "\n",
        "## Die \"for\" Schleife\n",
        "For-Schleifen iterieren über eine bestimmte Sequenz. Hier ist ein einfaches Beispiel:\n",
        "\n",
        "![image.png](data:image/png;base64,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)"
      ],
      "metadata": {
        "id": "VbToUVUJCls5"
      }
    },
    {
      "cell_type": "code",
      "source": [
        "# Dein Code:\n"
      ],
      "metadata": {
        "id": "5JqEEJN8C-IO"
      },
      "execution_count": null,
      "outputs": []
    },
    {
      "cell_type": "markdown",
      "source": [
        "For-Schleifen können mit den Funktionen `range` und `xrange` über eine Folge von Zahlen iterieren. Der Unterschied zwischen range und xrange besteht darin, dass die range-Funktion eine neue Liste mit Zahlen aus dem angegebenen Bereich zurückgibt, während xrange einen Iterator zurückgibt, der effizienter ist. (Python 3 verwendet die Funktion `range`, die sich wie `xrange` verhält). Die `range`-Funktion ist nullbasiert.\n",
        "\n",
        "![image.png](data:image/png;base64,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)"
      ],
      "metadata": {
        "id": "FIUu_ITCDAaz"
      }
    },
    {
      "cell_type": "code",
      "source": [
        "# Hier ausprobieren:\n"
      ],
      "metadata": {
        "id": "7gEQkyNwDfpf"
      },
      "execution_count": null,
      "outputs": []
    },
    {
      "cell_type": "markdown",
      "source": [
        "## \"while\" Schleifen\n",
        "While-Schleifen werden so lange wiederholt, wie eine bestimmte boolesche Bedingung erfüllt ist. Zum Beispiel:\n",
        "\n",
        "![image.png](data:image/png;base64,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)"
      ],
      "metadata": {
        "id": "RCjE1CpbDiej"
      }
    },
    {
      "cell_type": "code",
      "source": [
        "# Hier ausprobieren:\n"
      ],
      "metadata": {
        "id": "GJwuCAjHDsmy"
      },
      "execution_count": null,
      "outputs": []
    },
    {
      "cell_type": "markdown",
      "source": [
        "## \"break\" und \"continue\" Anweisungen\n",
        "break wird verwendet, um eine for-Schleife oder eine while-Schleife zu verlassen, während continue verwendet wird, um den aktuellen Block zu überspringen und zur „for“- oder „while“-Anweisung zurückzukehren. Ein paar Beispiele:\n",
        "\n",
        "![image.png](data:image/png;base64,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)"
      ],
      "metadata": {
        "id": "mEM5S-7KEIMm"
      }
    },
    {
      "cell_type": "code",
      "source": [
        "# Hier ausprobieren:"
      ],
      "metadata": {
        "id": "OWCWnX3gEIjP"
      },
      "execution_count": null,
      "outputs": []
    },
    {
      "cell_type": "markdown",
      "source": [
        "## Übung\n",
        "Gehen Sie die Schleife durch und drucken Sie alle geraden Zahlen aus der Zahlenliste in der gleichen Reihenfolge aus, in der sie empfangen wurden. Drucke keine Zahlen aus, die in der Reihenfolge nach 237 kommen.\n"
      ],
      "metadata": {
        "id": "8nsQnVBtD2zO"
      }
    },
    {
      "cell_type": "code",
      "source": [
        "numbers = [\n",
        "    951, 402, 984, 651, 360, 69, 408, 319, 601, 485, 980, 507, 725, 547, 544,\n",
        "    615, 83, 165, 141, 501, 263, 617, 865, 575, 219, 390, 984, 592, 236, 105, 942, 941,\n",
        "    386, 462, 47, 418, 907, 344, 236, 375, 823, 566, 597, 978, 328, 615, 953, 345,\n",
        "    399, 162, 758, 219, 918, 237, 412, 566, 826, 248, 866, 950, 626, 949, 687, 217,\n",
        "    815, 67, 104, 58, 512, 24, 892, 894, 767, 553, 81, 379, 843, 831, 445, 742, 717,\n",
        "    958, 609, 842, 451, 688, 753, 854, 685, 93, 857, 440, 380, 126, 721, 328, 753, 470,\n",
        "    743, 527\n",
        "]\n",
        "\n",
        "# TODO: Hier die Aufgabe programmieren\n"
      ],
      "metadata": {
        "id": "4p1q5ic5EeKg"
      },
      "execution_count": null,
      "outputs": []
    }
  ]
}